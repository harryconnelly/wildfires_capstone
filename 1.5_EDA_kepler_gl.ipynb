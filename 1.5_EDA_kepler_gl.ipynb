{
 "cells": [
  {
   "cell_type": "markdown",
   "metadata": {},
   "source": [
    "# kelper.gl visualization"
   ]
  },
  {
   "cell_type": "code",
   "execution_count": 1,
   "metadata": {},
   "outputs": [],
   "source": [
    "#import pandas and upload SQL\n",
    "import pandas as pd"
   ]
  },
  {
   "cell_type": "code",
   "execution_count": 2,
   "metadata": {},
   "outputs": [],
   "source": [
    "df = pd.read_csv('sql.csv')"
   ]
  },
  {
   "cell_type": "code",
   "execution_count": 3,
   "metadata": {},
   "outputs": [],
   "source": [
    "#make date after 1993, it is how the data best fits and the 1992 data is spotty\n",
    "df5=df[df['DISCOVERY_DATE']>=2449022.5]"
   ]
  },
  {
   "cell_type": "code",
   "execution_count": 4,
   "metadata": {},
   "outputs": [],
   "source": [
    "df5=df5.reset_index().drop(columns=['index', 'Unnamed: 0'])"
   ]
  },
  {
   "cell_type": "markdown",
   "metadata": {},
   "source": [
    "# Convert the Data into 24 hours\n",
    "\n",
    "##### The data was given by individual days, but the product I am using (kepler.gl) needs the specific times and works best if it is in a 24hour period, or days connected by time. \n",
    "\n",
    "#### So I chose to convert the dates into their equivilent in a 24 hour day, meaning the first date given is 00:00:00 and the last one given is around 24:00:00. "
   ]
  },
  {
   "cell_type": "code",
   "execution_count": 5,
   "metadata": {
    "scrolled": true
   },
   "outputs": [],
   "source": [
    "#this equation helps create a format of 00:00:00 for the time of the given events. \n",
    "first=[]\n",
    "second=[]\n",
    "third=[]\n",
    "\n",
    "for i,y in enumerate(df5['DISCOVERY_DATE']):\n",
    "    ### this creates values for the first set of numbers, XX:00:00. I chose 420 because of the number of values in between\n",
    "    ### divided by 24 AND is also divisable by 60 is 420. \n",
    "    first.append(int((int(y)-2448622.5)/420))\n",
    "    ###leveraged the prior equation to come up with the second, for the second set of numbers 00:XX:00 I need the remainder and\n",
    "    ### to convert that into what it would be within 60 minutes, hense the *60 at the end\n",
    "    second.append(int((((y-2448622.5)/420)%1)*(60)))\n",
    "    ### third is divided by 7 because 7*24 is 420, and then I calculate the remander which is then what second it should be in\n",
    "    third.append(round(float((((y-2448622.5)/7)%1)*60)))"
   ]
  },
  {
   "cell_type": "code",
   "execution_count": 6,
   "metadata": {
    "scrolled": true
   },
   "outputs": [],
   "source": [
    "#turn them into data frame\n",
    "first=pd.DataFrame(first).rename(columns={0: 'first'})\n",
    "second=pd.DataFrame(second).rename(columns={0: 'second'})\n",
    "third=pd.DataFrame(third).rename(columns={0: 'third'})"
   ]
  },
  {
   "cell_type": "code",
   "execution_count": 7,
   "metadata": {
    "scrolled": true
   },
   "outputs": [],
   "source": [
    "#format them properly to be 07 or 12, as a string which is how date/time interprets them. did this for the next three bloacks\n",
    "first2 = []\n",
    "for i,y in enumerate(first['first']):\n",
    "    if y < 10:\n",
    "        first2.append(str(0)+str(y))\n",
    "    else:\n",
    "        first2.append(str(y))"
   ]
  },
  {
   "cell_type": "code",
   "execution_count": 8,
   "metadata": {},
   "outputs": [],
   "source": [
    "second2=[]\n",
    "for i,y in enumerate(second['second']):\n",
    "    if y < 10:\n",
    "        second2.append(str(0)+str(y))\n",
    "    else:\n",
    "        second2.append(str(y))"
   ]
  },
  {
   "cell_type": "code",
   "execution_count": 9,
   "metadata": {},
   "outputs": [],
   "source": [
    "third2=[]\n",
    "for i,y in enumerate(third['third']):\n",
    "    if y < 10:\n",
    "        third2.append(str(0)+str(y))\n",
    "    else:\n",
    "        third2.append(str(y))"
   ]
  },
  {
   "cell_type": "code",
   "execution_count": 10,
   "metadata": {},
   "outputs": [],
   "source": [
    "#convert data back into dataframes\n",
    "first2=pd.DataFrame(first2).rename(columns={0: 'First'})"
   ]
  },
  {
   "cell_type": "code",
   "execution_count": 11,
   "metadata": {},
   "outputs": [],
   "source": [
    "second2=pd.DataFrame(second2).rename(columns={0: 'Second'})"
   ]
  },
  {
   "cell_type": "code",
   "execution_count": 12,
   "metadata": {},
   "outputs": [],
   "source": [
    "third2=pd.DataFrame(third2).rename(columns={0: 'Third'})"
   ]
  },
  {
   "cell_type": "code",
   "execution_count": 13,
   "metadata": {
    "scrolled": true
   },
   "outputs": [],
   "source": [
    "#convert data into a string, picked a random simple day as the first part, then the other pieces are the different times\n",
    "#represented. so I have first+second+third or 00:00:00 of what ever is given\n",
    "bestdf=[]\n",
    "for i,y in enumerate(first2['First']):\n",
    "    bestdf.append('01-01-2000 '+first2['First'][i]+':'+second2['Second'][i]+':'+third2['Third'][i])"
   ]
  },
  {
   "cell_type": "code",
   "execution_count": 14,
   "metadata": {},
   "outputs": [],
   "source": [
    "#turn into a dataframe and concat them together and convert the data into a datetime and put it in the original and main df\n",
    "df100=pd.DataFrame(bestdf).rename(columns={0: 'bestname'})\n",
    "df50=pd.concat([df5, df100], axis=1)\n",
    "df['newer']=pd.to_datetime(df50['bestname'])"
   ]
  },
  {
   "cell_type": "code",
   "execution_count": 15,
   "metadata": {},
   "outputs": [],
   "source": [
    "#save it\n",
    "df.to_csv('two_oneday.csv')"
   ]
  },
  {
   "cell_type": "code",
   "execution_count": 16,
   "metadata": {
    "scrolled": true
   },
   "outputs": [],
   "source": [
    "#for the largest wildfires 50000\n",
    "df2500=df[df['FIRE_SIZE']>50000]"
   ]
  },
  {
   "cell_type": "code",
   "execution_count": 17,
   "metadata": {},
   "outputs": [],
   "source": [
    "df2500=df2500.reset_index().drop(columns=['index', 'Unnamed: 0'])"
   ]
  },
  {
   "cell_type": "code",
   "execution_count": 18,
   "metadata": {},
   "outputs": [],
   "source": [
    "df2500.to_csv('2largfires2.csv')"
   ]
  },
  {
   "cell_type": "markdown",
   "metadata": {},
   "source": [
    "# Now take csvs and adjust them in kepler.gl "
   ]
  },
  {
   "cell_type": "markdown",
   "metadata": {},
   "source": [
    "### this is the config"
   ]
  },
  {
   "cell_type": "code",
   "execution_count": 20,
   "metadata": {},
   "outputs": [
    {
     "ename": "NameError",
     "evalue": "name 'true' is not defined",
     "output_type": "error",
     "traceback": [
      "\u001b[1;31m---------------------------------------------------------------------------\u001b[0m",
      "\u001b[1;31mNameError\u001b[0m                                 Traceback (most recent call last)",
      "\u001b[1;32m<ipython-input-20-62f89ab85fdb>\u001b[0m in \u001b[0;36m<module>\u001b[1;34m()\u001b[0m\n\u001b[0;32m     13\u001b[0m             \u001b[1;36m946759268145\u001b[0m\u001b[1;33m\u001b[0m\u001b[0m\n\u001b[0;32m     14\u001b[0m           ],\n\u001b[1;32m---> 15\u001b[1;33m           \u001b[1;34m\"enlarged\"\u001b[0m\u001b[1;33m:\u001b[0m \u001b[0mtrue\u001b[0m\u001b[1;33m,\u001b[0m\u001b[1;33m\u001b[0m\u001b[0m\n\u001b[0m\u001b[0;32m     16\u001b[0m           \u001b[1;34m\"plotType\"\u001b[0m\u001b[1;33m:\u001b[0m \u001b[1;34m\"histogram\"\u001b[0m\u001b[1;33m,\u001b[0m\u001b[1;33m\u001b[0m\u001b[0m\n\u001b[0;32m     17\u001b[0m           \u001b[1;34m\"yAxis\"\u001b[0m\u001b[1;33m:\u001b[0m \u001b[0mnull\u001b[0m\u001b[1;33m\u001b[0m\u001b[0m\n",
      "\u001b[1;31mNameError\u001b[0m: name 'true' is not defined"
     ]
    }
   ],
   "source": [
    "{\n",
    "  \"version\": \"v1\",\n",
    "  \"config\": {\n",
    "    \"visState\": {\n",
    "      \"filters\": [\n",
    "        {\n",
    "          \"dataId\": \"dtj9b03lq\",\n",
    "          \"id\": \"zgx7wp1ci\",\n",
    "          \"name\": \"newer\",\n",
    "          \"type\": \"timeRange\",\n",
    "          \"value\": [\n",
    "            946757317145,\n",
    "            946759268145\n",
    "          ],\n",
    "          \"enlarged\": true,\n",
    "          \"plotType\": \"histogram\",\n",
    "          \"yAxis\": null\n",
    "        }\n",
    "      ],\n",
    "      \"layers\": [\n",
    "        {\n",
    "          \"id\": \"mf39j5\",\n",
    "          \"type\": \"point\",\n",
    "          \"config\": {\n",
    "            \"dataId\": \"dtj9b03lq\",\n",
    "            \"label\": \"Point\",\n",
    "            \"color\": [\n",
    "              23,\n",
    "              184,\n",
    "              190,\n",
    "              255\n",
    "            ],\n",
    "            \"columns\": {\n",
    "              \"lat\": \"LATITUDE\",\n",
    "              \"lng\": \"LONGITUDE\",\n",
    "              \"altitude\": null\n",
    "            },\n",
    "            \"isVisible\": true,\n",
    "            \"visConfig\": {\n",
    "              \"radius\": 10,\n",
    "              \"fixedRadius\": false,\n",
    "              \"opacity\": 0.8,\n",
    "              \"outline\": false,\n",
    "              \"thickness\": 2,\n",
    "              \"colorRange\": {\n",
    "                \"name\": \"Global Warming 8\",\n",
    "                \"type\": \"sequential\",\n",
    "                \"category\": \"Uber\",\n",
    "                \"colors\": [\n",
    "                  \"#FFC300\",\n",
    "                  \"#E57F00\",\n",
    "                  \"#CB4600\",\n",
    "                  \"#B21800\",\n",
    "                  \"#98000A\",\n",
    "                  \"#7F0023\",\n",
    "                  \"#650031\",\n",
    "                  \"#4C0035\"\n",
    "                ],\n",
    "                \"reversed\": true\n",
    "              },\n",
    "              \"radiusRange\": [\n",
    "                0,\n",
    "                98.2\n",
    "              ],\n",
    "              \"hi-precision\": false\n",
    "            },\n",
    "            \"textLabel\": {\n",
    "              \"field\": null,\n",
    "              \"color\": [\n",
    "                255,\n",
    "                255,\n",
    "                255\n",
    "              ],\n",
    "              \"size\": 50,\n",
    "              \"offset\": [\n",
    "                0,\n",
    "                0\n",
    "              ],\n",
    "              \"anchor\": \"middle\"\n",
    "            }\n",
    "          },\n",
    "          \"visualChannels\": {\n",
    "            \"colorField\": {\n",
    "              \"name\": \"FIRE_SIZE\",\n",
    "              \"type\": \"real\"\n",
    "            },\n",
    "            \"colorScale\": \"quantize\",\n",
    "            \"sizeField\": {\n",
    "              \"name\": \"FIRE_SIZE\",\n",
    "              \"type\": \"real\"\n",
    "            },\n",
    "            \"sizeScale\": \"sqrt\"\n",
    "          }\n",
    "        }\n",
    "      ],\n",
    "      \"interactionConfig\": {\n",
    "        \"tooltip\": {\n",
    "          \"fieldsToShow\": {\n",
    "            \"dtj9b03lq\": [\n",
    "              \"column_0\",\n",
    "              \"DISCOVERY_DOY\",\n",
    "              \"DISCOVERY_DATE\",\n",
    "              \"FIRE_YEAR\",\n",
    "              \"DISCOVERY_TIME\"\n",
    "            ]\n",
    "          },\n",
    "          \"enabled\": true\n",
    "        },\n",
    "        \"brush\": {\n",
    "          \"size\": 0.5,\n",
    "          \"enabled\": false\n",
    "        }\n",
    "      },\n",
    "      \"layerBlending\": \"normal\",\n",
    "      \"splitMaps\": []\n",
    "    },\n",
    "    \"mapState\": {\n",
    "      \"bearing\": 0,\n",
    "      \"dragRotate\": false,\n",
    "      \"latitude\": 37.86216357015128,\n",
    "      \"longitude\": -107.35164062499975,\n",
    "      \"pitch\": 0,\n",
    "      \"zoom\": 3,\n",
    "      \"isSplit\": false\n",
    "    },\n",
    "    \"mapStyle\": {\n",
    "      \"styleType\": \"dark\",\n",
    "      \"topLayerGroups\": {},\n",
    "      \"visibleLayerGroups\": {\n",
    "        \"label\": true,\n",
    "        \"road\": true,\n",
    "        \"border\": false,\n",
    "        \"building\": true,\n",
    "        \"water\": true,\n",
    "        \"land\": true\n",
    "      },\n",
    "      \"mapStyles\": {}\n",
    "    }\n",
    "  }\n",
    "}"
   ]
  },
  {
   "cell_type": "markdown",
   "metadata": {},
   "source": [
    "# What My Kepler Results Look Like"
   ]
  },
  {
   "cell_type": "markdown",
   "metadata": {},
   "source": [
    "### Outcome of Lower 48 for all wildfires"
   ]
  },
  {
   "cell_type": "markdown",
   "metadata": {},
   "source": [
    "[To view Gif Click Here](https://github.com/harryconnelly/wildfires_capstone/blob/master/capstone1.gif)"
   ]
  },
  {
   "cell_type": "markdown",
   "metadata": {},
   "source": [
    "### Outcome of Lower 48 for wildfires over 50,000 acres."
   ]
  },
  {
   "cell_type": "markdown",
   "metadata": {},
   "source": [
    "[To view Gif Click Here](https://github.com/harryconnelly/wildfires_capstone/blob/master/capstone1.gif)"
   ]
  },
  {
   "cell_type": "code",
   "execution_count": null,
   "metadata": {},
   "outputs": [],
   "source": []
  }
 ],
 "metadata": {
  "kernelspec": {
   "display_name": "Python 3",
   "language": "python",
   "name": "python3"
  },
  "language_info": {
   "codemirror_mode": {
    "name": "ipython",
    "version": 3
   },
   "file_extension": ".py",
   "mimetype": "text/x-python",
   "name": "python",
   "nbconvert_exporter": "python",
   "pygments_lexer": "ipython3",
   "version": "3.6.5"
  }
 },
 "nbformat": 4,
 "nbformat_minor": 2
}
