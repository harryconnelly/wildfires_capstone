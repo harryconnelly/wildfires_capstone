{
 "cells": [
  {
   "cell_type": "code",
   "execution_count": 1,
   "metadata": {},
   "outputs": [],
   "source": [
    "import pandas as pd"
   ]
  },
  {
   "cell_type": "code",
   "execution_count": 2,
   "metadata": {},
   "outputs": [],
   "source": [
    "df1000 = pd.read_csv('GoodDataFrame.csv')"
   ]
  },
  {
   "cell_type": "markdown",
   "metadata": {},
   "source": [
    "# Create DataFrames that will be concated with Final DataFrame\n",
    "###### A,B,C...G are all different classifications of fire sizes, I summed each appearance of a letter grade. If I count 10 A's on a certain day at a certain location, then it ='s 10."
   ]
  },
  {
   "cell_type": "code",
   "execution_count": 3,
   "metadata": {},
   "outputs": [],
   "source": [
    "#getting dataframe started. if there is no observation then it =='s zero thus 0 is the optimal choice\n",
    "df1000['A'] = 0\n",
    "df1000['B'] = 0\n",
    "df1000['C'] = 0\n",
    "df1000['D'] = 0\n",
    "df1000['E'] = 0\n",
    "df1000['F'] = 0\n",
    "df1000['G'] = 0"
   ]
  },
  {
   "cell_type": "code",
   "execution_count": 4,
   "metadata": {},
   "outputs": [],
   "source": [
    "#import counter\n",
    "from collections import Counter"
   ]
  },
  {
   "cell_type": "code",
   "execution_count": 6,
   "metadata": {
    "scrolled": true
   },
   "outputs": [
    {
     "name": "stdout",
     "output_type": "stream",
     "text": [
      "0\n"
     ]
    },
    {
     "name": "stderr",
     "output_type": "stream",
     "text": [
      "C:\\ProgramData\\Anaconda3\\lib\\site-packages\\ipykernel_launcher.py:10: SettingWithCopyWarning: \n",
      "A value is trying to be set on a copy of a slice from a DataFrame\n",
      "\n",
      "See the caveats in the documentation: http://pandas.pydata.org/pandas-docs/stable/indexing.html#indexing-view-versus-copy\n",
      "  # Remove the CWD from sys.path while we load stuff.\n",
      "C:\\ProgramData\\Anaconda3\\lib\\site-packages\\ipykernel_launcher.py:12: SettingWithCopyWarning: \n",
      "A value is trying to be set on a copy of a slice from a DataFrame\n",
      "\n",
      "See the caveats in the documentation: http://pandas.pydata.org/pandas-docs/stable/indexing.html#indexing-view-versus-copy\n",
      "  if sys.path[0] == '':\n",
      "C:\\ProgramData\\Anaconda3\\lib\\site-packages\\ipykernel_launcher.py:8: SettingWithCopyWarning: \n",
      "A value is trying to be set on a copy of a slice from a DataFrame\n",
      "\n",
      "See the caveats in the documentation: http://pandas.pydata.org/pandas-docs/stable/indexing.html#indexing-view-versus-copy\n",
      "  \n",
      "C:\\ProgramData\\Anaconda3\\lib\\site-packages\\ipykernel_launcher.py:16: SettingWithCopyWarning: \n",
      "A value is trying to be set on a copy of a slice from a DataFrame\n",
      "\n",
      "See the caveats in the documentation: http://pandas.pydata.org/pandas-docs/stable/indexing.html#indexing-view-versus-copy\n",
      "  app.launch_new_instance()\n",
      "C:\\ProgramData\\Anaconda3\\lib\\site-packages\\ipykernel_launcher.py:14: SettingWithCopyWarning: \n",
      "A value is trying to be set on a copy of a slice from a DataFrame\n",
      "\n",
      "See the caveats in the documentation: http://pandas.pydata.org/pandas-docs/stable/indexing.html#indexing-view-versus-copy\n",
      "  \n",
      "C:\\ProgramData\\Anaconda3\\lib\\site-packages\\ipykernel_launcher.py:18: SettingWithCopyWarning: \n",
      "A value is trying to be set on a copy of a slice from a DataFrame\n",
      "\n",
      "See the caveats in the documentation: http://pandas.pydata.org/pandas-docs/stable/indexing.html#indexing-view-versus-copy\n",
      "C:\\ProgramData\\Anaconda3\\lib\\site-packages\\ipykernel_launcher.py:20: SettingWithCopyWarning: \n",
      "A value is trying to be set on a copy of a slice from a DataFrame\n",
      "\n",
      "See the caveats in the documentation: http://pandas.pydata.org/pandas-docs/stable/indexing.html#indexing-view-versus-copy\n"
     ]
    },
    {
     "name": "stdout",
     "output_type": "stream",
     "text": [
      "100000\n",
      "200000\n",
      "300000\n",
      "400000\n",
      "500000\n"
     ]
    },
    {
     "ename": "TypeError",
     "evalue": "'float' object is not iterable",
     "output_type": "error",
     "traceback": [
      "\u001b[1;31m---------------------------------------------------------------------------\u001b[0m",
      "\u001b[1;31mTypeError\u001b[0m                                 Traceback (most recent call last)",
      "\u001b[1;32m<ipython-input-6-eef82f1d2e5c>\u001b[0m in \u001b[0;36m<module>\u001b[1;34m()\u001b[0m\n\u001b[0;32m      4\u001b[0m     \u001b[1;32mif\u001b[0m \u001b[0mi\u001b[0m\u001b[1;33m%\u001b[0m\u001b[1;36m100000\u001b[0m\u001b[1;33m==\u001b[0m\u001b[1;36m0\u001b[0m\u001b[1;33m:\u001b[0m\u001b[1;33m\u001b[0m\u001b[0m\n\u001b[0;32m      5\u001b[0m         \u001b[0mprint\u001b[0m\u001b[1;33m(\u001b[0m\u001b[0mi\u001b[0m\u001b[1;33m)\u001b[0m\u001b[1;33m\u001b[0m\u001b[0m\n\u001b[1;32m----> 6\u001b[1;33m     \u001b[1;32mfor\u001b[0m \u001b[0mkey\u001b[0m\u001b[1;33m,\u001b[0m \u001b[0mvalue\u001b[0m \u001b[1;32min\u001b[0m \u001b[0mdict\u001b[0m\u001b[1;33m(\u001b[0m\u001b[0mCounter\u001b[0m\u001b[1;33m(\u001b[0m\u001b[0mdf1000\u001b[0m\u001b[1;33m[\u001b[0m\u001b[1;34m'sz_class'\u001b[0m\u001b[1;33m]\u001b[0m\u001b[1;33m[\u001b[0m\u001b[0mi\u001b[0m\u001b[1;33m]\u001b[0m\u001b[1;33m)\u001b[0m\u001b[1;33m)\u001b[0m\u001b[1;33m.\u001b[0m\u001b[0mitems\u001b[0m\u001b[1;33m(\u001b[0m\u001b[1;33m)\u001b[0m\u001b[1;33m:\u001b[0m\u001b[1;33m\u001b[0m\u001b[0m\n\u001b[0m\u001b[0;32m      7\u001b[0m         \u001b[1;32mif\u001b[0m \u001b[0mkey\u001b[0m \u001b[1;33m==\u001b[0m \u001b[1;34m'A'\u001b[0m\u001b[1;33m:\u001b[0m\u001b[1;33m\u001b[0m\u001b[0m\n\u001b[0;32m      8\u001b[0m             \u001b[0mdf1000\u001b[0m\u001b[1;33m[\u001b[0m\u001b[1;34m'A'\u001b[0m\u001b[1;33m]\u001b[0m\u001b[1;33m[\u001b[0m\u001b[0mi\u001b[0m\u001b[1;33m]\u001b[0m \u001b[1;33m=\u001b[0m \u001b[0mvalue\u001b[0m\u001b[1;33m\u001b[0m\u001b[0m\n",
      "\u001b[1;32mC:\\ProgramData\\Anaconda3\\lib\\collections\\__init__.py\u001b[0m in \u001b[0;36m__init__\u001b[1;34m(*args, **kwds)\u001b[0m\n\u001b[0;32m    533\u001b[0m             \u001b[1;32mraise\u001b[0m \u001b[0mTypeError\u001b[0m\u001b[1;33m(\u001b[0m\u001b[1;34m'expected at most 1 arguments, got %d'\u001b[0m \u001b[1;33m%\u001b[0m \u001b[0mlen\u001b[0m\u001b[1;33m(\u001b[0m\u001b[0margs\u001b[0m\u001b[1;33m)\u001b[0m\u001b[1;33m)\u001b[0m\u001b[1;33m\u001b[0m\u001b[0m\n\u001b[0;32m    534\u001b[0m         \u001b[0msuper\u001b[0m\u001b[1;33m(\u001b[0m\u001b[0mCounter\u001b[0m\u001b[1;33m,\u001b[0m \u001b[0mself\u001b[0m\u001b[1;33m)\u001b[0m\u001b[1;33m.\u001b[0m\u001b[0m__init__\u001b[0m\u001b[1;33m(\u001b[0m\u001b[1;33m)\u001b[0m\u001b[1;33m\u001b[0m\u001b[0m\n\u001b[1;32m--> 535\u001b[1;33m         \u001b[0mself\u001b[0m\u001b[1;33m.\u001b[0m\u001b[0mupdate\u001b[0m\u001b[1;33m(\u001b[0m\u001b[1;33m*\u001b[0m\u001b[0margs\u001b[0m\u001b[1;33m,\u001b[0m \u001b[1;33m**\u001b[0m\u001b[0mkwds\u001b[0m\u001b[1;33m)\u001b[0m\u001b[1;33m\u001b[0m\u001b[0m\n\u001b[0m\u001b[0;32m    536\u001b[0m \u001b[1;33m\u001b[0m\u001b[0m\n\u001b[0;32m    537\u001b[0m     \u001b[1;32mdef\u001b[0m \u001b[0m__missing__\u001b[0m\u001b[1;33m(\u001b[0m\u001b[0mself\u001b[0m\u001b[1;33m,\u001b[0m \u001b[0mkey\u001b[0m\u001b[1;33m)\u001b[0m\u001b[1;33m:\u001b[0m\u001b[1;33m\u001b[0m\u001b[0m\n",
      "\u001b[1;32mC:\\ProgramData\\Anaconda3\\lib\\collections\\__init__.py\u001b[0m in \u001b[0;36mupdate\u001b[1;34m(*args, **kwds)\u001b[0m\n\u001b[0;32m    620\u001b[0m                     \u001b[0msuper\u001b[0m\u001b[1;33m(\u001b[0m\u001b[0mCounter\u001b[0m\u001b[1;33m,\u001b[0m \u001b[0mself\u001b[0m\u001b[1;33m)\u001b[0m\u001b[1;33m.\u001b[0m\u001b[0mupdate\u001b[0m\u001b[1;33m(\u001b[0m\u001b[0miterable\u001b[0m\u001b[1;33m)\u001b[0m \u001b[1;31m# fast path when counter is empty\u001b[0m\u001b[1;33m\u001b[0m\u001b[0m\n\u001b[0;32m    621\u001b[0m             \u001b[1;32melse\u001b[0m\u001b[1;33m:\u001b[0m\u001b[1;33m\u001b[0m\u001b[0m\n\u001b[1;32m--> 622\u001b[1;33m                 \u001b[0m_count_elements\u001b[0m\u001b[1;33m(\u001b[0m\u001b[0mself\u001b[0m\u001b[1;33m,\u001b[0m \u001b[0miterable\u001b[0m\u001b[1;33m)\u001b[0m\u001b[1;33m\u001b[0m\u001b[0m\n\u001b[0m\u001b[0;32m    623\u001b[0m         \u001b[1;32mif\u001b[0m \u001b[0mkwds\u001b[0m\u001b[1;33m:\u001b[0m\u001b[1;33m\u001b[0m\u001b[0m\n\u001b[0;32m    624\u001b[0m             \u001b[0mself\u001b[0m\u001b[1;33m.\u001b[0m\u001b[0mupdate\u001b[0m\u001b[1;33m(\u001b[0m\u001b[0mkwds\u001b[0m\u001b[1;33m)\u001b[0m\u001b[1;33m\u001b[0m\u001b[0m\n",
      "\u001b[1;31mTypeError\u001b[0m: 'float' object is not iterable"
     ]
    }
   ],
   "source": [
    "#build A,B...G count. Need Key, Value pairs to do this. Use counter and .items() to access that information\n",
    "#think of this like dummy variables. the function when it is finished breaks rather than ends smoothly but still very happy with it\n",
    "for i,y in enumerate(df1000['sz_class']):\n",
    "    if i%100000==0:\n",
    "        print(i)\n",
    "    for key, value in dict(Counter(df1000['sz_class'][i])).items(): \n",
    "        if key == 'A':\n",
    "            df1000['A'][i] = value\n",
    "        if key == 'B':\n",
    "            df1000['B'][i] = value\n",
    "        if key == 'C':\n",
    "            df1000['C'][i] = value\n",
    "        if key == 'D':\n",
    "            df1000['D'][i] = value\n",
    "        if key == 'E':\n",
    "            df1000['E'][i] = value\n",
    "        if key == 'F':\n",
    "            df1000['F'][i] = value\n",
    "        if key == 'G':\n",
    "            df1000['G'][i] = value"
   ]
  },
  {
   "cell_type": "code",
   "execution_count": 9,
   "metadata": {},
   "outputs": [],
   "source": [
    "df1000.to_csv('df1010.csv')"
   ]
  },
  {
   "cell_type": "code",
   "execution_count": 10,
   "metadata": {
    "scrolled": false
   },
   "outputs": [
    {
     "data": {
      "text/html": [
       "<div>\n",
       "<style scoped>\n",
       "    .dataframe tbody tr th:only-of-type {\n",
       "        vertical-align: middle;\n",
       "    }\n",
       "\n",
       "    .dataframe tbody tr th {\n",
       "        vertical-align: top;\n",
       "    }\n",
       "\n",
       "    .dataframe thead th {\n",
       "        text-align: right;\n",
       "    }\n",
       "</style>\n",
       "<table border=\"1\" class=\"dataframe\">\n",
       "  <thead>\n",
       "    <tr style=\"text-align: right;\">\n",
       "      <th></th>\n",
       "      <th>Unnamed: 0</th>\n",
       "      <th>Unnamed: 0.1</th>\n",
       "      <th>dates</th>\n",
       "      <th>latit</th>\n",
       "      <th>longit</th>\n",
       "      <th>longitude</th>\n",
       "      <th>latitude</th>\n",
       "      <th>state</th>\n",
       "      <th>sz_class</th>\n",
       "      <th>cause</th>\n",
       "      <th>firesize</th>\n",
       "      <th>A</th>\n",
       "      <th>B</th>\n",
       "      <th>C</th>\n",
       "      <th>D</th>\n",
       "      <th>E</th>\n",
       "      <th>F</th>\n",
       "      <th>G</th>\n",
       "    </tr>\n",
       "  </thead>\n",
       "  <tbody>\n",
       "    <tr>\n",
       "      <th>0</th>\n",
       "      <td>0</td>\n",
       "      <td>0</td>\n",
       "      <td>2448622.5</td>\n",
       "      <td>26</td>\n",
       "      <td>-82</td>\n",
       "      <td>-81.85</td>\n",
       "      <td>26.6</td>\n",
       "      <td>FL</td>\n",
       "      <td>B</td>\n",
       "      <td>6.0</td>\n",
       "      <td>3.0</td>\n",
       "      <td>0</td>\n",
       "      <td>1</td>\n",
       "      <td>0</td>\n",
       "      <td>0</td>\n",
       "      <td>0</td>\n",
       "      <td>0</td>\n",
       "      <td>0</td>\n",
       "    </tr>\n",
       "    <tr>\n",
       "      <th>1</th>\n",
       "      <td>1</td>\n",
       "      <td>1</td>\n",
       "      <td>2448622.5</td>\n",
       "      <td>26</td>\n",
       "      <td>-80</td>\n",
       "      <td>-80.95931999999998,-80.45</td>\n",
       "      <td>25.88276,25.95</td>\n",
       "      <td>FL,FL</td>\n",
       "      <td>C,C</td>\n",
       "      <td>9.0,6.0,[]</td>\n",
       "      <td>10.0,20.0</td>\n",
       "      <td>0</td>\n",
       "      <td>0</td>\n",
       "      <td>2</td>\n",
       "      <td>0</td>\n",
       "      <td>0</td>\n",
       "      <td>0</td>\n",
       "      <td>0</td>\n",
       "    </tr>\n",
       "    <tr>\n",
       "      <th>2</th>\n",
       "      <td>2</td>\n",
       "      <td>2</td>\n",
       "      <td>2448622.5</td>\n",
       "      <td>28</td>\n",
       "      <td>-82</td>\n",
       "      <td>-81.9,-82.05,-81.8,-81.58,-81.29,-81.29,-81.43</td>\n",
       "      <td>28.28,27.89,27.54,28.46,28.47,27.13,27.41</td>\n",
       "      <td>FL,FL,FL,FL,FL,FL,FL</td>\n",
       "      <td>C,B,B,B,B,B,B</td>\n",
       "      <td>9.0,6.0,6.0,6.0,6.0,9.0,7.0,[]</td>\n",
       "      <td>1.0,2.5,0.5,6.0,2.0,6.0,28.0</td>\n",
       "      <td>0</td>\n",
       "      <td>6</td>\n",
       "      <td>1</td>\n",
       "      <td>0</td>\n",
       "      <td>0</td>\n",
       "      <td>0</td>\n",
       "      <td>0</td>\n",
       "    </tr>\n",
       "    <tr>\n",
       "      <th>3</th>\n",
       "      <td>3</td>\n",
       "      <td>3</td>\n",
       "      <td>2448622.5</td>\n",
       "      <td>28</td>\n",
       "      <td>-80</td>\n",
       "      <td>-80.73</td>\n",
       "      <td>28.3</td>\n",
       "      <td>FL</td>\n",
       "      <td>B</td>\n",
       "      <td>6.0,[]</td>\n",
       "      <td>8.0</td>\n",
       "      <td>0</td>\n",
       "      <td>1</td>\n",
       "      <td>0</td>\n",
       "      <td>0</td>\n",
       "      <td>0</td>\n",
       "      <td>0</td>\n",
       "      <td>0</td>\n",
       "    </tr>\n",
       "    <tr>\n",
       "      <th>4</th>\n",
       "      <td>4</td>\n",
       "      <td>4</td>\n",
       "      <td>2448622.5</td>\n",
       "      <td>30</td>\n",
       "      <td>-98</td>\n",
       "      <td>-97.32291</td>\n",
       "      <td>30.19375</td>\n",
       "      <td>TX</td>\n",
       "      <td>C</td>\n",
       "      <td>2.0,[]</td>\n",
       "      <td>30.0</td>\n",
       "      <td>0</td>\n",
       "      <td>0</td>\n",
       "      <td>1</td>\n",
       "      <td>0</td>\n",
       "      <td>0</td>\n",
       "      <td>0</td>\n",
       "      <td>0</td>\n",
       "    </tr>\n",
       "  </tbody>\n",
       "</table>\n",
       "</div>"
      ],
      "text/plain": [
       "   Unnamed: 0  Unnamed: 0.1      dates  latit  longit  \\\n",
       "0           0             0  2448622.5     26     -82   \n",
       "1           1             1  2448622.5     26     -80   \n",
       "2           2             2  2448622.5     28     -82   \n",
       "3           3             3  2448622.5     28     -80   \n",
       "4           4             4  2448622.5     30     -98   \n",
       "\n",
       "                                        longitude  \\\n",
       "0                                          -81.85   \n",
       "1                       -80.95931999999998,-80.45   \n",
       "2  -81.9,-82.05,-81.8,-81.58,-81.29,-81.29,-81.43   \n",
       "3                                          -80.73   \n",
       "4                                       -97.32291   \n",
       "\n",
       "                                    latitude                 state  \\\n",
       "0                                       26.6                    FL   \n",
       "1                             25.88276,25.95                 FL,FL   \n",
       "2  28.28,27.89,27.54,28.46,28.47,27.13,27.41  FL,FL,FL,FL,FL,FL,FL   \n",
       "3                                       28.3                    FL   \n",
       "4                                   30.19375                    TX   \n",
       "\n",
       "        sz_class                           cause  \\\n",
       "0              B                             6.0   \n",
       "1            C,C                      9.0,6.0,[]   \n",
       "2  C,B,B,B,B,B,B  9.0,6.0,6.0,6.0,6.0,9.0,7.0,[]   \n",
       "3              B                          6.0,[]   \n",
       "4              C                          2.0,[]   \n",
       "\n",
       "                       firesize  A  B  C  D  E  F  G  \n",
       "0                           3.0  0  1  0  0  0  0  0  \n",
       "1                     10.0,20.0  0  0  2  0  0  0  0  \n",
       "2  1.0,2.5,0.5,6.0,2.0,6.0,28.0  0  6  1  0  0  0  0  \n",
       "3                           8.0  0  1  0  0  0  0  0  \n",
       "4                          30.0  0  0  1  0  0  0  0  "
      ]
     },
     "execution_count": 10,
     "metadata": {},
     "output_type": "execute_result"
    }
   ],
   "source": [
    "pd.read_csv('ABC_tuenight.csv').head()"
   ]
  },
  {
   "cell_type": "markdown",
   "metadata": {},
   "source": [
    "# Create a Max Value Column and Sum of Values Column\n",
    "#### Each row needs a max value, and sum of all the wildfiries. This is important details that will be leveraged later for analysis"
   ]
  },
  {
   "cell_type": "code",
   "execution_count": 11,
   "metadata": {
    "scrolled": true
   },
   "outputs": [
    {
     "name": "stdout",
     "output_type": "stream",
     "text": [
      "0\n",
      "100000\n",
      "200000\n",
      "300000\n",
      "400000\n",
      "500000\n"
     ]
    },
    {
     "ename": "AttributeError",
     "evalue": "'float' object has no attribute 'split'",
     "output_type": "error",
     "traceback": [
      "\u001b[1;31m---------------------------------------------------------------------------\u001b[0m",
      "\u001b[1;31mAttributeError\u001b[0m                            Traceback (most recent call last)",
      "\u001b[1;32m<ipython-input-11-a38bbc5e59f1>\u001b[0m in \u001b[0;36m<module>\u001b[1;34m()\u001b[0m\n\u001b[0;32m     14\u001b[0m     \u001b[1;31m### separate the different units in the firesize by splitting it. then use a function to find the max values and\u001b[0m\u001b[1;33m\u001b[0m\u001b[1;33m\u001b[0m\u001b[0m\n\u001b[0;32m     15\u001b[0m     \u001b[1;31m##continously cycle through.\u001b[0m\u001b[1;33m\u001b[0m\u001b[1;33m\u001b[0m\u001b[0m\n\u001b[1;32m---> 16\u001b[1;33m     \u001b[1;32mfor\u001b[0m \u001b[0mm\u001b[0m \u001b[1;32min\u001b[0m \u001b[0mdf1000\u001b[0m\u001b[1;33m[\u001b[0m\u001b[1;34m'firesize'\u001b[0m\u001b[1;33m]\u001b[0m\u001b[1;33m.\u001b[0m\u001b[0mtolist\u001b[0m\u001b[1;33m(\u001b[0m\u001b[1;33m)\u001b[0m\u001b[1;33m[\u001b[0m\u001b[0mi\u001b[0m\u001b[1;33m]\u001b[0m\u001b[1;33m.\u001b[0m\u001b[0msplit\u001b[0m\u001b[1;33m(\u001b[0m\u001b[1;34m\",\"\u001b[0m\u001b[1;33m)\u001b[0m\u001b[1;33m:\u001b[0m\u001b[1;33m\u001b[0m\u001b[0m\n\u001b[0m\u001b[0;32m     17\u001b[0m             \u001b[1;32mif\u001b[0m \u001b[0mfloat\u001b[0m\u001b[1;33m(\u001b[0m\u001b[0mm\u001b[0m\u001b[1;33m)\u001b[0m \u001b[1;33m>\u001b[0m \u001b[0mfloat\u001b[0m\u001b[1;33m(\u001b[0m\u001b[0mt\u001b[0m\u001b[1;33m)\u001b[0m\u001b[1;33m:\u001b[0m\u001b[1;33m\u001b[0m\u001b[0m\n\u001b[0;32m     18\u001b[0m                 \u001b[0mt\u001b[0m \u001b[1;33m=\u001b[0m \u001b[0mfloat\u001b[0m\u001b[1;33m(\u001b[0m\u001b[0mm\u001b[0m\u001b[1;33m)\u001b[0m\u001b[1;33m\u001b[0m\u001b[0m\n",
      "\u001b[1;31mAttributeError\u001b[0m: 'float' object has no attribute 'split'"
     ]
    }
   ],
   "source": [
    "#function for finding max\n",
    "#just like the function prior this function breaks\n",
    "append1 = []\n",
    "append2 = []\n",
    "\n",
    "for i,y in enumerate(df1000['firesize']):\n",
    "    if i%100000==0:\n",
    "        #print i if divisable by 1000 because not want to use too much memory but want to track work\n",
    "        print(i)\n",
    "    #add append1 to append2 and then clear append1, and t, but not append2\n",
    "    append2.append(append1)\n",
    "    append1 = []\n",
    "    t = 0\n",
    "    ### separate the different units in the firesize by splitting it. then use a function to find the max values and \n",
    "    ##continously cycle through. \n",
    "    for m in df1000['firesize'].tolist()[i].split(\",\"):\n",
    "            if float(m) > float(t):\n",
    "                t = float(m)\n",
    "                append1 = []\n",
    "                append1.append(t)\n",
    "#             else:\n",
    "#                 print('hi')\n",
    "# #         else:\n",
    "#             if float(m) > float(t):\n",
    "#                 append1 = []\n",
    "#                 append1.append(float(m))\n",
    "                            "
   ]
  },
  {
   "cell_type": "code",
   "execution_count": 12,
   "metadata": {
    "scrolled": true
   },
   "outputs": [],
   "source": [
    "#create 2 of the dataframes, add them lower to the Final dataframe\n",
    "dataframe = pd.DataFrame(append2)\n",
    "firessmax = pd.DataFrame(append2).rename(columns={0: 'FIRE SIZE MAX'})"
   ]
  },
  {
   "cell_type": "code",
   "execution_count": 13,
   "metadata": {
    "scrolled": true
   },
   "outputs": [
    {
     "name": "stdout",
     "output_type": "stream",
     "text": [
      "0\n",
      "200000\n",
      "400000\n"
     ]
    },
    {
     "ename": "AttributeError",
     "evalue": "'float' object has no attribute 'split'",
     "output_type": "error",
     "traceback": [
      "\u001b[1;31m---------------------------------------------------------------------------\u001b[0m",
      "\u001b[1;31mAttributeError\u001b[0m                            Traceback (most recent call last)",
      "\u001b[1;32m<ipython-input-13-09d44ef0747c>\u001b[0m in \u001b[0;36m<module>\u001b[1;34m()\u001b[0m\n\u001b[0;32m     13\u001b[0m \u001b[1;33m\u001b[0m\u001b[0m\n\u001b[0;32m     14\u001b[0m     \u001b[1;31m#use .tolist()[i].split(','), clear append10, which gets each float alone, then add them together and then add it to append10\u001b[0m\u001b[1;33m\u001b[0m\u001b[1;33m\u001b[0m\u001b[0m\n\u001b[1;32m---> 15\u001b[1;33m     \u001b[1;32mfor\u001b[0m \u001b[0mm\u001b[0m \u001b[1;32min\u001b[0m \u001b[0mdf1000\u001b[0m\u001b[1;33m[\u001b[0m\u001b[1;34m'firesize'\u001b[0m\u001b[1;33m]\u001b[0m\u001b[1;33m.\u001b[0m\u001b[0mtolist\u001b[0m\u001b[1;33m(\u001b[0m\u001b[1;33m)\u001b[0m\u001b[1;33m[\u001b[0m\u001b[0mi\u001b[0m\u001b[1;33m]\u001b[0m\u001b[1;33m.\u001b[0m\u001b[0msplit\u001b[0m\u001b[1;33m(\u001b[0m\u001b[1;34m\",\"\u001b[0m\u001b[1;33m)\u001b[0m\u001b[1;33m:\u001b[0m\u001b[1;33m\u001b[0m\u001b[0m\n\u001b[0m\u001b[0;32m     16\u001b[0m         \u001b[0mappend10\u001b[0m \u001b[1;33m=\u001b[0m \u001b[1;33m[\u001b[0m\u001b[1;33m]\u001b[0m\u001b[1;33m\u001b[0m\u001b[0m\n\u001b[0;32m     17\u001b[0m         \u001b[0mt\u001b[0m \u001b[1;33m=\u001b[0m \u001b[0mfloat\u001b[0m\u001b[1;33m(\u001b[0m\u001b[0mt\u001b[0m\u001b[1;33m)\u001b[0m\u001b[1;33m+\u001b[0m\u001b[0mfloat\u001b[0m\u001b[1;33m(\u001b[0m\u001b[0mm\u001b[0m\u001b[1;33m)\u001b[0m\u001b[1;33m\u001b[0m\u001b[0m\n",
      "\u001b[1;31mAttributeError\u001b[0m: 'float' object has no attribute 'split'"
     ]
    }
   ],
   "source": [
    "#sum the acreage of the fires\n",
    "append10 = []\n",
    "append20 = []\n",
    "\n",
    "for i,y in enumerate(df1000['firesize']):\n",
    "    if i%200000==0:\n",
    "        print(i)\n",
    "    #add when change of i, add prior append10 to append 20\n",
    "    #clear t and append10\n",
    "    append20.append(append10)\n",
    "    append10 = []\n",
    "    t = 0\n",
    "    \n",
    "    #use .tolist()[i].split(','), clear append10, which gets each float alone, then add them together and then add it to append10\n",
    "    for m in df1000['firesize'].tolist()[i].split(\",\"):\n",
    "        append10 = []\n",
    "        t = float(t)+float(m)\n",
    "        append10.append(t)\n",
    "        \n"
   ]
  },
  {
   "cell_type": "code",
   "execution_count": 14,
   "metadata": {},
   "outputs": [],
   "source": [
    "#convert them to csv out of paranoia and create dataframes and concat it with the final dataframe\n",
    "firesssum = pd.DataFrame(append20).rename(columns={0: 'FIRE SIZE SUM'})"
   ]
  },
  {
   "cell_type": "code",
   "execution_count": 15,
   "metadata": {
    "scrolled": true
   },
   "outputs": [],
   "source": [
    "#reset the indexes it can be easy to run into trouble if you forget to do that. I also dropped the unncessary column that comes\n",
    "#when you change the index\n",
    "firessum = firesssum.drop(0).reset_index().drop(columns='index')"
   ]
  },
  {
   "cell_type": "markdown",
   "metadata": {},
   "source": [
    "#### the last and first dataframe were missing, so I added those in manually for all the various examples\n",
    "#### same applies to fire size max see below"
   ]
  },
  {
   "cell_type": "code",
   "execution_count": 16,
   "metadata": {},
   "outputs": [],
   "source": [
    "firessum['FIRE SIZE SUM'][0] = 3.0"
   ]
  },
  {
   "cell_type": "code",
   "execution_count": 17,
   "metadata": {
    "scrolled": false
   },
   "outputs": [],
   "source": [
    "firessum['FIRE SIZE SUM'][544534] = 0"
   ]
  },
  {
   "cell_type": "code",
   "execution_count": 18,
   "metadata": {
    "scrolled": true
   },
   "outputs": [],
   "source": [
    "df1000['FIRE SIZE SUM'] = firessum['FIRE SIZE SUM']"
   ]
  },
  {
   "cell_type": "code",
   "execution_count": 19,
   "metadata": {
    "scrolled": true
   },
   "outputs": [],
   "source": [
    "firessmax = firessmax.drop(0).reset_index().drop(columns='index')"
   ]
  },
  {
   "cell_type": "code",
   "execution_count": 20,
   "metadata": {
    "scrolled": true
   },
   "outputs": [],
   "source": [
    "firessmax['FIRE SIZE MAX'][0] = 3.0"
   ]
  },
  {
   "cell_type": "code",
   "execution_count": 21,
   "metadata": {},
   "outputs": [],
   "source": [
    "firessmax['FIRE SIZE MAX'][544534] = 0"
   ]
  },
  {
   "cell_type": "code",
   "execution_count": 22,
   "metadata": {},
   "outputs": [],
   "source": [
    "df1000['FIRE SIZE MAX'] = firessmax['FIRE SIZE MAX']"
   ]
  },
  {
   "cell_type": "code",
   "execution_count": 23,
   "metadata": {
    "scrolled": true
   },
   "outputs": [
    {
     "name": "stderr",
     "output_type": "stream",
     "text": [
      "C:\\ProgramData\\Anaconda3\\lib\\site-packages\\ipykernel_launcher.py:1: FutureWarning: Sorting because non-concatenation axis is not aligned. A future version\n",
      "of pandas will change to not sort by default.\n",
      "\n",
      "To accept the future behavior, pass 'sort=True'.\n",
      "\n",
      "To retain the current behavior and silence the warning, pass sort=False\n",
      "\n",
      "  \"\"\"Entry point for launching an IPython kernel.\n"
     ]
    }
   ],
   "source": [
    "justincase=pd.concat([firessmax, firesssum])"
   ]
  },
  {
   "cell_type": "code",
   "execution_count": 24,
   "metadata": {},
   "outputs": [],
   "source": [
    "import numpy as np"
   ]
  },
  {
   "cell_type": "markdown",
   "metadata": {},
   "source": [
    "##### Using .diff to see difference between current value and values prior. This is SUPER IMPORTANT. These will be my y variables. I am not interested in finding when will there be a lot of forest fire but rather when will there be a change in conditions that will cause a change and expansion of forest fires.\n",
    "\n",
    "##### I then took only the max value of these columns so that it is standardized nicely and consistant. "
   ]
  },
  {
   "cell_type": "markdown",
   "metadata": {},
   "source": [
    "#### arguably the most important function of the whole project. This is me creating the y variable. I am saying that if there is no fire and it jumps to 100 acres, or the sum of fire in an area grows by 4x or grows by 2x under certain conditions then to make note of it and make them 1's. Everything else is a 0. \n",
    "\n",
    "#### y variable is named firebinary."
   ]
  },
  {
   "cell_type": "code",
   "execution_count": 26,
   "metadata": {
    "scrolled": true
   },
   "outputs": [
    {
     "data": {
      "text/html": [
       "<div>\n",
       "<style scoped>\n",
       "    .dataframe tbody tr th:only-of-type {\n",
       "        vertical-align: middle;\n",
       "    }\n",
       "\n",
       "    .dataframe tbody tr th {\n",
       "        vertical-align: top;\n",
       "    }\n",
       "\n",
       "    .dataframe thead th {\n",
       "        text-align: right;\n",
       "    }\n",
       "</style>\n",
       "<table border=\"1\" class=\"dataframe\">\n",
       "  <thead>\n",
       "    <tr style=\"text-align: right;\">\n",
       "      <th></th>\n",
       "      <th>Unnamed: 0</th>\n",
       "      <th>dates</th>\n",
       "      <th>latit</th>\n",
       "      <th>longit</th>\n",
       "      <th>longitude</th>\n",
       "      <th>latitude</th>\n",
       "      <th>state</th>\n",
       "      <th>sz_class</th>\n",
       "      <th>cause</th>\n",
       "      <th>firesize</th>\n",
       "      <th>A</th>\n",
       "      <th>B</th>\n",
       "      <th>C</th>\n",
       "      <th>D</th>\n",
       "      <th>E</th>\n",
       "      <th>F</th>\n",
       "      <th>G</th>\n",
       "      <th>FIRE SIZE SUM</th>\n",
       "      <th>FIRE SIZE MAX</th>\n",
       "    </tr>\n",
       "  </thead>\n",
       "  <tbody>\n",
       "    <tr>\n",
       "      <th>0</th>\n",
       "      <td>0</td>\n",
       "      <td>2448622.5</td>\n",
       "      <td>26</td>\n",
       "      <td>-82</td>\n",
       "      <td>-81.85</td>\n",
       "      <td>26.6</td>\n",
       "      <td>FL</td>\n",
       "      <td>B</td>\n",
       "      <td>6.0</td>\n",
       "      <td>3.0</td>\n",
       "      <td>0</td>\n",
       "      <td>1</td>\n",
       "      <td>0</td>\n",
       "      <td>0</td>\n",
       "      <td>0</td>\n",
       "      <td>0</td>\n",
       "      <td>0</td>\n",
       "      <td>3.0</td>\n",
       "      <td>3.0</td>\n",
       "    </tr>\n",
       "    <tr>\n",
       "      <th>1</th>\n",
       "      <td>1</td>\n",
       "      <td>2448622.5</td>\n",
       "      <td>26</td>\n",
       "      <td>-80</td>\n",
       "      <td>-80.95931999999998,-80.45</td>\n",
       "      <td>25.88276,25.95</td>\n",
       "      <td>FL,FL</td>\n",
       "      <td>C,C</td>\n",
       "      <td>9.0,6.0,[]</td>\n",
       "      <td>10.0,20.0</td>\n",
       "      <td>0</td>\n",
       "      <td>0</td>\n",
       "      <td>2</td>\n",
       "      <td>0</td>\n",
       "      <td>0</td>\n",
       "      <td>0</td>\n",
       "      <td>0</td>\n",
       "      <td>30.0</td>\n",
       "      <td>20.0</td>\n",
       "    </tr>\n",
       "    <tr>\n",
       "      <th>2</th>\n",
       "      <td>2</td>\n",
       "      <td>2448622.5</td>\n",
       "      <td>28</td>\n",
       "      <td>-82</td>\n",
       "      <td>-81.9,-82.05,-81.8,-81.58,-81.29,-81.29,-81.43</td>\n",
       "      <td>28.28,27.89,27.54,28.46,28.47,27.13,27.41</td>\n",
       "      <td>FL,FL,FL,FL,FL,FL,FL</td>\n",
       "      <td>C,B,B,B,B,B,B</td>\n",
       "      <td>9.0,6.0,6.0,6.0,6.0,9.0,7.0,[]</td>\n",
       "      <td>1.0,2.5,0.5,6.0,2.0,6.0,28.0</td>\n",
       "      <td>0</td>\n",
       "      <td>6</td>\n",
       "      <td>1</td>\n",
       "      <td>0</td>\n",
       "      <td>0</td>\n",
       "      <td>0</td>\n",
       "      <td>0</td>\n",
       "      <td>46.0</td>\n",
       "      <td>28.0</td>\n",
       "    </tr>\n",
       "    <tr>\n",
       "      <th>3</th>\n",
       "      <td>3</td>\n",
       "      <td>2448622.5</td>\n",
       "      <td>28</td>\n",
       "      <td>-80</td>\n",
       "      <td>-80.73</td>\n",
       "      <td>28.3</td>\n",
       "      <td>FL</td>\n",
       "      <td>B</td>\n",
       "      <td>6.0,[]</td>\n",
       "      <td>8.0</td>\n",
       "      <td>0</td>\n",
       "      <td>1</td>\n",
       "      <td>0</td>\n",
       "      <td>0</td>\n",
       "      <td>0</td>\n",
       "      <td>0</td>\n",
       "      <td>0</td>\n",
       "      <td>8.0</td>\n",
       "      <td>8.0</td>\n",
       "    </tr>\n",
       "    <tr>\n",
       "      <th>4</th>\n",
       "      <td>4</td>\n",
       "      <td>2448622.5</td>\n",
       "      <td>30</td>\n",
       "      <td>-98</td>\n",
       "      <td>-97.32291</td>\n",
       "      <td>30.19375</td>\n",
       "      <td>TX</td>\n",
       "      <td>C</td>\n",
       "      <td>2.0,[]</td>\n",
       "      <td>30.0</td>\n",
       "      <td>0</td>\n",
       "      <td>0</td>\n",
       "      <td>1</td>\n",
       "      <td>0</td>\n",
       "      <td>0</td>\n",
       "      <td>0</td>\n",
       "      <td>0</td>\n",
       "      <td>30.0</td>\n",
       "      <td>30.0</td>\n",
       "    </tr>\n",
       "  </tbody>\n",
       "</table>\n",
       "</div>"
      ],
      "text/plain": [
       "   Unnamed: 0      dates  latit  longit  \\\n",
       "0           0  2448622.5     26     -82   \n",
       "1           1  2448622.5     26     -80   \n",
       "2           2  2448622.5     28     -82   \n",
       "3           3  2448622.5     28     -80   \n",
       "4           4  2448622.5     30     -98   \n",
       "\n",
       "                                        longitude  \\\n",
       "0                                          -81.85   \n",
       "1                       -80.95931999999998,-80.45   \n",
       "2  -81.9,-82.05,-81.8,-81.58,-81.29,-81.29,-81.43   \n",
       "3                                          -80.73   \n",
       "4                                       -97.32291   \n",
       "\n",
       "                                    latitude                 state  \\\n",
       "0                                       26.6                    FL   \n",
       "1                             25.88276,25.95                 FL,FL   \n",
       "2  28.28,27.89,27.54,28.46,28.47,27.13,27.41  FL,FL,FL,FL,FL,FL,FL   \n",
       "3                                       28.3                    FL   \n",
       "4                                   30.19375                    TX   \n",
       "\n",
       "        sz_class                           cause  \\\n",
       "0              B                             6.0   \n",
       "1            C,C                      9.0,6.0,[]   \n",
       "2  C,B,B,B,B,B,B  9.0,6.0,6.0,6.0,6.0,9.0,7.0,[]   \n",
       "3              B                          6.0,[]   \n",
       "4              C                          2.0,[]   \n",
       "\n",
       "                       firesize  A  B  C  D  E  F  G  FIRE SIZE SUM  \\\n",
       "0                           3.0  0  1  0  0  0  0  0            3.0   \n",
       "1                     10.0,20.0  0  0  2  0  0  0  0           30.0   \n",
       "2  1.0,2.5,0.5,6.0,2.0,6.0,28.0  0  6  1  0  0  0  0           46.0   \n",
       "3                           8.0  0  1  0  0  0  0  0            8.0   \n",
       "4                          30.0  0  0  1  0  0  0  0           30.0   \n",
       "\n",
       "   FIRE SIZE MAX  \n",
       "0            3.0  \n",
       "1           20.0  \n",
       "2           28.0  \n",
       "3            8.0  \n",
       "4           30.0  "
      ]
     },
     "execution_count": 26,
     "metadata": {},
     "output_type": "execute_result"
    }
   ],
   "source": [
    "df1000.head()"
   ]
  },
  {
   "cell_type": "code",
   "execution_count": 28,
   "metadata": {
    "scrolled": true
   },
   "outputs": [
    {
     "data": {
      "text/plain": [
       "Index(['Unnamed: 0', 'dates', 'latit', 'longit', 'longitude', 'latitude',\n",
       "       'state', 'sz_class', 'cause', 'firesize', 'A', 'B', 'C', 'D', 'E', 'F',\n",
       "       'G', 'FIRE SIZE SUM', 'FIRE SIZE MAX'],\n",
       "      dtype='object')"
      ]
     },
     "execution_count": 28,
     "metadata": {},
     "output_type": "execute_result"
    }
   ],
   "source": [
    "df1000.columns"
   ]
  },
  {
   "cell_type": "code",
   "execution_count": 30,
   "metadata": {},
   "outputs": [],
   "source": [
    "df100=pd.read_csv('datesandstuffandweekdays.csv')"
   ]
  },
  {
   "cell_type": "code",
   "execution_count": 31,
   "metadata": {
    "scrolled": true
   },
   "outputs": [],
   "source": [
    "df100.rename(columns={'Unnamed: 3': 'Julian'}, inplace=True)"
   ]
  },
  {
   "cell_type": "markdown",
   "metadata": {},
   "source": [
    "#### this is to lable the day of the week. It could be a significant detail, so I am getting monday, tue, and whether they are a weekday or not, and what day it is by normal year standards. The details originally were in Julian calendars and were a bit uninterpretable. "
   ]
  },
  {
   "cell_type": "code",
   "execution_count": 33,
   "metadata": {
    "scrolled": true
   },
   "outputs": [
    {
     "name": "stdout",
     "output_type": "stream",
     "text": [
      "0\n",
      "1/1/1992\n",
      "Wednesday\n",
      "150000\n",
      "9/23/1999\n",
      "Thursday\n",
      "300000\n",
      "5/6/2006\n",
      "Saturday\n",
      "450000\n",
      "2/22/2012\n",
      "Wednesday\n"
     ]
    }
   ],
   "source": [
    "dayoweek = []\n",
    "dato = []\n",
    "weekend = []\n",
    "for i,y in enumerate(df1000['dates']):\n",
    "    for m,q in enumerate(df100['Julian']):\n",
    "        if q == y:\n",
    "\n",
    "            dayoweek.append(df100['date'][m])\n",
    "            dato.append(df100['day of week'][m])\n",
    "            if str(df100['day of week'][m]) == 'Friday' or str(df100['day of week'][m]) == 'Tuesday' or str(df100['day of week'][m]) == 'Wednesday' or str(df100['day of week'][m]) == 'Thursday':\n",
    "                weekend.append(0)\n",
    "                if i%150000==0:\n",
    "                    print(i)\n",
    "                    print(df100['date'][m])\n",
    "                    print(df100['day of week'][m])\n",
    "            else: \n",
    "                weekend.append(1)\n",
    "                if i%150000==0:\n",
    "                    print(i)\n",
    "                    print(df100['date'][m])\n",
    "                    print(df100['day of week'][m])\n",
    "                    \n",
    "            "
   ]
  },
  {
   "cell_type": "code",
   "execution_count": 34,
   "metadata": {},
   "outputs": [],
   "source": [
    "dater3 = pd.DataFrame(weekend).rename(columns={0: 'weekend'})"
   ]
  },
  {
   "cell_type": "code",
   "execution_count": 35,
   "metadata": {},
   "outputs": [],
   "source": [
    "dater2 = pd.DataFrame(dato).rename(columns={0: 'normal date'})"
   ]
  },
  {
   "cell_type": "code",
   "execution_count": 36,
   "metadata": {},
   "outputs": [],
   "source": [
    "dater1 = pd.DataFrame(dayoweek).rename(columns={0: 'day of week'})"
   ]
  },
  {
   "cell_type": "code",
   "execution_count": 37,
   "metadata": {},
   "outputs": [],
   "source": [
    "df1000=pd.concat([df1000, dater3], axis=1)\n",
    "df1000=pd.concat([df1000, dater1], axis=1)\n",
    "df1000=pd.concat([df1000, dater2], axis=1)"
   ]
  },
  {
   "cell_type": "code",
   "execution_count": 38,
   "metadata": {
    "scrolled": true
   },
   "outputs": [],
   "source": [
    "df1000=df1000.drop(columns=['Unnamed: 0'])"
   ]
  },
  {
   "cell_type": "markdown",
   "metadata": {},
   "source": [
    "##### create a name for each individual category. I did this by combining each the cordinates into this name. Each one is unique to the different potential coordinates. This helps in categorizing and organizing. "
   ]
  },
  {
   "cell_type": "code",
   "execution_count": 39,
   "metadata": {
    "scrolled": true
   },
   "outputs": [
    {
     "name": "stdout",
     "output_type": "stream",
     "text": [
      "lat:26lon:-82\n",
      "0\n",
      "lat:34lon:-90\n",
      "150000\n",
      "lat:46lon:-108\n",
      "300000\n",
      "lat:32lon:-84\n",
      "450000\n"
     ]
    }
   ],
   "source": [
    "##latitude and longitude appended. \n",
    "lattlon=[]\n",
    "for i,y in enumerate(df1000['latit']):\n",
    "    ###lattlon adds the the specific values corresponding so they can be dividided up into vairous categories\n",
    "    lattlon.append('lat:'+str(y)+'lon:'+str(df1000['longit'][i]))\n",
    "    if i%150000==0:\n",
    "            print('lat:'+str(y)+'lon:'+str(df1000['longit'][i]))\n",
    "            print(i)"
   ]
  },
  {
   "cell_type": "code",
   "execution_count": 40,
   "metadata": {},
   "outputs": [],
   "source": [
    "lat_lon = pd.DataFrame(lattlon).rename(columns={0: 'lat lon'})"
   ]
  },
  {
   "cell_type": "markdown",
   "metadata": {},
   "source": [
    "#### Some format got a little messed up, so I corrected those details and incorporarted the latlon titles into the main dataframe"
   ]
  },
  {
   "cell_type": "code",
   "execution_count": 41,
   "metadata": {},
   "outputs": [],
   "source": [
    "df1000=pd.concat([df1000, lat_lon], axis=1)"
   ]
  },
  {
   "cell_type": "code",
   "execution_count": 42,
   "metadata": {},
   "outputs": [],
   "source": [
    "df1000=df1000.sort_values('latit')"
   ]
  },
  {
   "cell_type": "code",
   "execution_count": 43,
   "metadata": {},
   "outputs": [],
   "source": [
    "df1000.reset_index(inplace=True)"
   ]
  },
  {
   "cell_type": "code",
   "execution_count": 44,
   "metadata": {},
   "outputs": [],
   "source": [
    "df1000.drop(544534, inplace=True)"
   ]
  },
  {
   "cell_type": "code",
   "execution_count": 45,
   "metadata": {},
   "outputs": [],
   "source": [
    "df1000.rename(columns={'normal date':'day of week', 'day of week': 'day'}, inplace=True)"
   ]
  },
  {
   "cell_type": "code",
   "execution_count": 46,
   "metadata": {},
   "outputs": [],
   "source": [
    "df1000['day']=pd.to_datetime(df1000['day'])"
   ]
  },
  {
   "cell_type": "code",
   "execution_count": 47,
   "metadata": {},
   "outputs": [],
   "source": [
    "df10000=df1000.sort_values(['lat lon', 'dates'])"
   ]
  },
  {
   "cell_type": "code",
   "execution_count": 48,
   "metadata": {},
   "outputs": [],
   "source": [
    "df10000.to_csv('datacleaned.csv')"
   ]
  },
  {
   "cell_type": "code",
   "execution_count": null,
   "metadata": {},
   "outputs": [],
   "source": []
  }
 ],
 "metadata": {
  "kernelspec": {
   "display_name": "Python 3",
   "language": "python",
   "name": "python3"
  },
  "language_info": {
   "codemirror_mode": {
    "name": "ipython",
    "version": 3
   },
   "file_extension": ".py",
   "mimetype": "text/x-python",
   "name": "python",
   "nbconvert_exporter": "python",
   "pygments_lexer": "ipython3",
   "version": "3.6.5"
  }
 },
 "nbformat": 4,
 "nbformat_minor": 2
}
